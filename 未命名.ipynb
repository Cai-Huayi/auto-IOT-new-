{
 "cells": [
  {
   "cell_type": "code",
   "execution_count": null,
   "id": "fa2dc879-4b86-46e9-a3ec-b66132b650c6",
   "metadata": {
    "tags": []
   },
   "outputs": [],
   "source": [
    "import face_recognition\n",
    "import cv2\n",
    "import os\n",
    "print(cv2.__version__)# 导入显示控件的依赖库\n",
    "from jetcam.utils import bgr8_to_jpeg\n",
    "import traitlets\n",
    "import ipywidgets.widgets as widgets\n",
    "from IPython.display import display\n",
    "\n",
    "# 创建显示特征库人脸的控件区域\n",
    "feature_imge = widgets.Image(format='jpeg', width=640, height=480)\n",
    "display(feature_imge)# Extract feature,and Build face feature database\n",
    "Encodings=[]\n",
    "Names=[]\n",
    "\n",
    "# 在识别人脸之前，需要先提取人脸库特征\n",
    "# 为了教学快速体验，这里只添加了2张人脸到人脸库，可以自定义数量\n",
    "image_dir='./images/face/known2' # 这里是人脸特征底库的图片路径，同样可以自定义自己的特征库，可以添加自己的人脸数据，替换成自己的绝对路径即可\n",
    "# 如：/home/eternity/Desktop/test/\n",
    "for root,dirs,files in os.walk(image_dir):\n",
    "    print(files)\n",
    "    for file in files:\n",
    "        path = os.path.join(root,file)\n",
    "        print(path)\n",
    "        name=os.path.splitext(file)[0]\n",
    "        print(name)\n",
    "        person=face_recognition.load_image_file(path)\n",
    "        feature_imge.value = bgr8_to_jpeg(cv2.cvtColor(person,cv2.COLOR_RGB2BGR))\n",
    "        encoding=face_recognition.face_encodings(person)[0]\n",
    "        Encodings.append(encoding)\n",
    "        Names.append(name)\n",
    "print(Names)\n",
    "\n",
    "font=cv2.FONT_HERSHEY_SIMPLEX# 线程函数操作库\n",
    "import threading # 线程\n",
    "import ctypes\n",
    "import inspect\n",
    "\n",
    "# 线程结束代码\n",
    "def _async_raise(tid, exctype):\n",
    "    tid = ctypes.c_long(tid)\n",
    "    if not inspect.isclass(exctype):\n",
    "        exctype = type(exctype)\n",
    "    res = ctypes.pythonapi.PyThreadState_SetAsyncExc(tid, ctypes.py_object(exctype))\n",
    "    if res == 0:\n",
    "        raise ValueError(\"invalid thread id\")\n",
    "    elif res != 1:\n",
    "        ctypes.pythonapi.PyThreadState_SetAsyncExc(tid, None)\n",
    "        raise SystemError(\"PyThreadState_SetAsyncExc failed\")\n",
    "        \n",
    "def stop_thread(thread):\n",
    "    _async_raise(thread.ident, SystemExit)\n",
    "dispW=480\n",
    "dispH=320\n",
    "flip=4\n",
    "#Uncomment These next Two Line for Pi Camera\n",
    "camSet='nvarguscamerasrc !  video/x-raw(memory:NVMM), width=3264, height=2464, format=NV12, framerate=21/1 ! nvvidconv flip-method='+str(flip)+' ! video/x-raw, width='+str(dispW)+', height='+str(dispH)+', format=BGRx ! videoconvert ! video/x-raw, format=BGR ! appsink'\n",
    "cap= cv2.VideoCapture(camSet)\n",
    "# 创建显示识别结果的控件区域\n",
    "face_imge2 = widgets.Image(format='jpeg', width=640, height=480)\n",
    "display(face_imge2)"
   ]
  }
 ],
 "metadata": {
  "kernelspec": {
   "display_name": "Python 3",
   "language": "python",
   "name": "python3"
  },
  "language_info": {
   "codemirror_mode": {
    "name": "ipython",
    "version": 3
   },
   "file_extension": ".py",
   "mimetype": "text/x-python",
   "name": "python",
   "nbconvert_exporter": "python",
   "pygments_lexer": "ipython3",
   "version": "3.6.9"
  }
 },
 "nbformat": 4,
 "nbformat_minor": 5
}
