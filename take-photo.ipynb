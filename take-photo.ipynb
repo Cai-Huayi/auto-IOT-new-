{
 "cells": [
  {
   "cell_type": "markdown",
   "metadata": {},
   "source": [
    "<center><img src=\"./imge/GLODON.png\" alt=\"广联达\" style=\"width: 500px;\"/></center>\n",
    "\n",
    "## 1.人脸库相片录入实验\n",
    "\n",
    "@  公司名称：广联达股份有限公司<br>\n",
    "@  文件名：1.take-phto.ipynb <br>\n",
    "@  版本：V1.0 <br>\n",
    "@  author: glodon.com<br>\n",
    "@  说明：人脸库相片录入<br>"
   ]
  },
  {
   "cell_type": "markdown",
   "metadata": {},
   "source": [
    "## 1、人脸相片录入实验"
   ]
  },
  {
   "cell_type": "code",
   "execution_count": null,
   "metadata": {
    "tags": []
   },
   "outputs": [
    {
     "name": "stdout",
     "output_type": "stream",
     "text": [
      "摄像头打开成功\n"
     ]
    },
    {
     "data": {
      "application/vnd.jupyter.widget-view+json": {
       "model_id": "d5815c27379943d3a30193b1db9b4ba1",
       "version_major": 2,
       "version_minor": 0
      },
      "text/plain": [
       "Image(value=b'', format='jpeg', height='480', width='640')"
      ]
     },
     "metadata": {},
     "output_type": "display_data"
    }
   ],
   "source": [
    "import cv2\n",
    "import os\n",
    "import time\n",
    "from jetcam.utils import bgr8_to_jpeg\n",
    "import ipywidgets.widgets as widgets\n",
    "from IPython.display import display\n",
    "#摄像头ID配置参数\n",
    "dispW=640     #设置视频显示窗口的宽度（以像素为单位）\n",
    "dispH=480     #设置视频显示窗口的高度（以像素为单位）\n",
    "flip=4        #设置摄像头图像的翻转\n",
    "camSet='nvarguscamerasrc !  video/x-raw(memory:NVMM), width=3264, height=2464, format=NV12, framerate=21/1 ! nvvidconv flip-method='+str(flip)+' ! video/x-raw, width='+str(dispW)+', height='+str(dispH)+', format=BGRx ! videoconvert ! video/x-raw, format=BGR ! appsink'\n",
    "cam= cv2.VideoCapture(camSet)    # VideoCapture是cv2库提供的视频读取函数\n",
    "save_path = \"/home/nvidia/Desktop/test/face\"\n",
    "recording_time = 5  # 录像时间限定设置为20S短视频\n",
    "\n",
    "if not cam.isOpened():\n",
    "        print(\"无法打开摄像头\")\n",
    "else:\n",
    "        print(\"摄像头打开成功\")\n",
    "        \n",
    "cam.release()\n",
    "\n",
    "def take_photo():\n",
    "    face_image = widgets.Image(format='jpeg', width=640, height=480) #创建Image组件，用于在Jupyter中显示摄像头的画面\n",
    "    display(face_image)\n",
    "    name = input(\"请输入('y'拍照，'q' 退出)\")\n",
    "    if name == 'q':\n",
    "        print('拍照结束！')\n",
    "        return 0\n",
    "    elif name == 'y':\n",
    "        print('开始拍照啦！')\n",
    "        \n",
    "        while True:\n",
    "            name = input(\"请输入你的姓名（'q' 退出，'Enqter'调整)\")\n",
    "            cam= cv2.VideoCapture(camSet)  \n",
    "            if name == 'q':\n",
    "                break \n",
    "            elif name != \"\":\n",
    "                ret, frame = cam.read()                        #通过调用 VideoCapture，来获取摄像头的一帧图像\n",
    "                frame = cv2.flip(frame,1)                      # 由于摄像头放置原因，图像需镜像\n",
    "                time.sleep(0.5 )\n",
    "                face_image.value = bgr8_to_jpeg(frame) #将图像传入Image组件显示\n",
    "                image_name = f\"{save_path}/{name}.jpg\"\n",
    "                cv2.imwrite(image_name, frame)\n",
    "                print(f\"相片保存为 {image_name}\")               # 打印保存信息\n",
    "                time.sleep(0.5 )\n",
    "\n",
    "            elif name == \"\":\n",
    "                start_time = time.time()  # 开启时间为当前系统时间\n",
    "                print('开启摄像头啦，调整合适位置吧！')\n",
    "                while (time.time() - start_time) < recording_time:    # 录像时间等于当前系统时间-开启时间\n",
    "                    ret, frame = cam.read()                        #通过调用 VideoCapture，来获取摄像头的一帧图像\n",
    "                    frame = cv2.flip(frame,1)                      # 由于摄像头放置原因，图像需镜像\n",
    "                    face_image.value = bgr8_to_jpeg(frame)         #将图像传入Image组件显示\n",
    "            cam.release()\n",
    "            continue        \n",
    "           \n",
    "    print('拍照结束！！！') \n",
    "    cam.release()\n",
    "    print('摄像头释放')\n",
    "\n",
    " \n",
    "if __name__ == '__main__':\n",
    "    take_photo()            \n"
   ]
  },
  {
   "cell_type": "code",
   "execution_count": null,
   "metadata": {
    "tags": []
   },
   "outputs": [],
   "source": []
  },
  {
   "cell_type": "code",
   "execution_count": null,
   "metadata": {},
   "outputs": [],
   "source": []
  },
  {
   "cell_type": "code",
   "execution_count": null,
   "metadata": {},
   "outputs": [],
   "source": []
  },
  {
   "cell_type": "code",
   "execution_count": null,
   "metadata": {},
   "outputs": [],
   "source": []
  },
  {
   "cell_type": "code",
   "execution_count": null,
   "metadata": {},
   "outputs": [],
   "source": []
  }
 ],
 "metadata": {
  "kernelspec": {
   "display_name": "Python 3 (ipykernel)",
   "language": "python",
   "name": "python3"
  },
  "language_info": {
   "codemirror_mode": {
    "name": "ipython",
    "version": 3
   },
   "file_extension": ".py",
   "mimetype": "text/x-python",
   "name": "python",
   "nbconvert_exporter": "python",
   "pygments_lexer": "ipython3",
   "version": "3.12.3"
  }
 },
 "nbformat": 4,
 "nbformat_minor": 4
}
