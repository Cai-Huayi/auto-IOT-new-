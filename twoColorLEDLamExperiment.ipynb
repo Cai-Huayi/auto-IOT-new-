{
 "cells": [
  {
   "cell_type": "markdown",
   "metadata": {},
   "source": [
    "<center><img src=\"./imge/GLODON.png\" alt=\"广联达\" style=\"width: 500px;\"/></center>\n",
    "\n",
    "# 双色LED灯实验\n",
    "\n",
    "@  公司名称：广联达股份有限公司<br>\n",
    "@  文件名：双色LED灯实验.ipynb <br>\n",
    "@  版本：V1.0 <br>\n",
    "@  author: glodon.com<br>\n",
    "@  说明：双色LED灯实验，从最简单的GPIO口的输出控制为例，控制双色LED灯的亮灭！<br>"
   ]
  },
  {
   "cell_type": "markdown",
   "metadata": {},
   "source": [
    "## 1.1 调用必要的库函数"
   ]
  },
  {
   "cell_type": "code",
   "execution_count": 1,
   "metadata": {},
   "outputs": [],
   "source": [
    "#!/usr/bin/env python3\n",
    "import RPi.GPIO as GPIO\n",
    "import time"
   ]
  },
  {
   "cell_type": "markdown",
   "metadata": {},
   "source": [
    "## 1.2 定义GPIO口及输出模式"
   ]
  },
  {
   "cell_type": "code",
   "execution_count": null,
   "metadata": {},
   "outputs": [],
   "source": [
    "pin_R = 11 # 定义红色LED灯PIN\n",
    "pin_G = 12 # 定义黄色LED灯PIN\n",
    "\n",
    "GPIO.setmode(GPIO.BOARD)       # Numbers GPIOs by physical location\n",
    "GPIO.setwarnings(False)        #  忽略GPIO警告\n",
    "GPIO.setup(pin_R,GPIO.OUT)\n",
    "GPIO.setup(pin_G,GPIO.OUT)\n",
    "\n",
    "# 设置color\n",
    "def glodon_setColor():\n",
    "    GPIO.output(pin_R,GPIO.HIGH) # 高电平——红色\n",
    "    GPIO.output(pin_G,GPIO.LOW)  # 低电平——绿色\n",
    "    time.sleep(1)                # 延时 1000 ms\n",
    "    GPIO.output(pin_R,GPIO.LOW)  \n",
    "    GPIO.output(pin_G,GPIO.HIGH) \n",
    "    time.sleep(1)\n",
    "    \n",
    "# 设置一个循环函数    \n",
    "def glodon_loop():\n",
    "    while True:\n",
    "        glodon_setColor()\n",
    "        \n",
    "#程序释放       \n",
    "def glodon_destroy():\n",
    "    GPIO.output(pin_R,GPIO.LOW)\n",
    "    GPIO.output(pin_G,GPIO.LOW)\n",
    "    GPIO.cleanup()\n",
    "\n",
    "# 程序入口\n",
    "if __name__ == \"__main__\":\n",
    "    try:\n",
    "        glodon_loop()\n",
    "    except KeyboardInterrupt:\n",
    "        glodon_destroy()\n"
   ]
  },
  {
   "cell_type": "code",
   "execution_count": null,
   "metadata": {},
   "outputs": [],
   "source": []
  }
 ],
 "metadata": {
  "kernelspec": {
   "display_name": "Python 3",
   "language": "python",
   "name": "python3"
  },
  "language_info": {
   "codemirror_mode": {
    "name": "ipython",
    "version": 3
   },
   "file_extension": ".py",
   "mimetype": "text/x-python",
   "name": "python",
   "nbconvert_exporter": "python",
   "pygments_lexer": "ipython3",
   "version": "3.6.9"
  }
 },
 "nbformat": 4,
 "nbformat_minor": 4
}
